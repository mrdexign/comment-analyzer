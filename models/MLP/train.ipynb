{
 "cells": [
  {
   "cell_type": "markdown",
   "metadata": {},
   "source": [
    "<h4>Loading the normalized Comments</h4>"
   ]
  },
  {
   "cell_type": "code",
   "execution_count": 1,
   "metadata": {},
   "outputs": [
    {
     "data": {
      "text/html": [
       "<div>\n",
       "<style scoped>\n",
       "    .dataframe tbody tr th:only-of-type {\n",
       "        vertical-align: middle;\n",
       "    }\n",
       "\n",
       "    .dataframe tbody tr th {\n",
       "        vertical-align: top;\n",
       "    }\n",
       "\n",
       "    .dataframe thead th {\n",
       "        text-align: right;\n",
       "    }\n",
       "</style>\n",
       "<table border=\"1\" class=\"dataframe\">\n",
       "  <thead>\n",
       "    <tr style=\"text-align: right;\">\n",
       "      <th></th>\n",
       "      <th>rate</th>\n",
       "      <th>comment</th>\n",
       "    </tr>\n",
       "  </thead>\n",
       "  <tbody>\n",
       "    <tr>\n",
       "      <th>0</th>\n",
       "      <td>1</td>\n",
       "      <td>در مقایسه آی‌پد       نسل     و مینی نسل    هر...</td>\n",
       "    </tr>\n",
       "    <tr>\n",
       "      <th>1</th>\n",
       "      <td>1</td>\n",
       "      <td>بسیار زیبا و مناسب برای طراحی و کارای روز مره ...</td>\n",
       "    </tr>\n",
       "    <tr>\n",
       "      <th>2</th>\n",
       "      <td>1</td>\n",
       "      <td>عالیه حرف نداره بازی ها هم خیلی خوب اجرا میکنه</td>\n",
       "    </tr>\n",
       "    <tr>\n",
       "      <th>3</th>\n",
       "      <td>1</td>\n",
       "      <td>جنس بدنه با کیفیت  نرم افزار روان و بی نقص در ...</td>\n",
       "    </tr>\n",
       "    <tr>\n",
       "      <th>4</th>\n",
       "      <td>1</td>\n",
       "      <td>کالا اصل بود</td>\n",
       "    </tr>\n",
       "  </tbody>\n",
       "</table>\n",
       "</div>"
      ],
      "text/plain": [
       "   rate                                            comment\n",
       "0     1  در مقایسه آی‌پد       نسل     و مینی نسل    هر...\n",
       "1     1  بسیار زیبا و مناسب برای طراحی و کارای روز مره ...\n",
       "2     1     عالیه حرف نداره بازی ها هم خیلی خوب اجرا میکنه\n",
       "3     1  جنس بدنه با کیفیت  نرم افزار روان و بی نقص در ...\n",
       "4     1                                       کالا اصل بود"
      ]
     },
     "execution_count": 1,
     "metadata": {},
     "output_type": "execute_result"
    }
   ],
   "source": [
    "import pandas as pd\n",
    "\n",
    "comments = pd.read_csv(\"../../data/comments.normalized.csv\")\n",
    "comments['comment'].fillna(' ', inplace=True)\n",
    "comments.head()"
   ]
  },
  {
   "cell_type": "markdown",
   "metadata": {},
   "source": [
    "<h4>Count Vectorizer</h4>\n"
   ]
  },
  {
   "cell_type": "code",
   "execution_count": 2,
   "metadata": {},
   "outputs": [
    {
     "name": "stdout",
     "output_type": "stream",
     "text": [
      "Shape (144717, 10000)\n",
      "10000 ['آب' 'آبان' 'آبدیت' ... 'یکیو' 'یگ' 'یی']\n"
     ]
    }
   ],
   "source": [
    "import pickle\n",
    "from sklearn.feature_extraction.text import CountVectorizer\n",
    "vectorizer = CountVectorizer(min_df=3, max_features= 10000)\n",
    "X_vectorized = vectorizer.fit_transform(comments['comment']).todense()\n",
    "\n",
    "print('Shape',X_vectorized.shape)\n",
    "words = vectorizer.get_feature_names_out()\n",
    "print(len(words),words)\n",
    "\n",
    "# Save vectorizer for further usages\n",
    "with open('vectorizer.pkl','wb') as f:\n",
    "    pickle.dump(vectorizer,f)"
   ]
  },
  {
   "cell_type": "markdown",
   "metadata": {},
   "source": [
    "<h4>Split dataset for training</h4>"
   ]
  },
  {
   "cell_type": "code",
   "execution_count": 3,
   "metadata": {},
   "outputs": [
    {
     "name": "stdout",
     "output_type": "stream",
     "text": [
      "Unique Labels [-1, 0, 1]\n",
      "X_test: (28944, 10000)\n",
      "X_train: (115773, 10000)\n"
     ]
    }
   ],
   "source": [
    "from sklearn.model_selection import train_test_split\n",
    "\n",
    "labels = comments['rate'].values\n",
    "unique_labels = sorted(list(set(labels)))\n",
    "print('Unique Labels',unique_labels)\n",
    "\n",
    "X_train, X_test, y_train, y_test = train_test_split(X_vectorized, labels, test_size=0.2)\n",
    "\n",
    "print(f'X_test: {X_test.shape}')\n",
    "print(f'X_train: {X_train.shape}')"
   ]
  },
  {
   "cell_type": "markdown",
   "metadata": {},
   "source": [
    "<h4>Train an ANN model</h4>"
   ]
  },
  {
   "cell_type": "code",
   "execution_count": 4,
   "metadata": {},
   "outputs": [
    {
     "name": "stdout",
     "output_type": "stream",
     "text": [
      "WARNING:tensorflow:From c:\\Users\\MrDexign\\AppData\\Local\\Programs\\Python\\Python310\\lib\\site-packages\\keras\\src\\losses.py:2976: The name tf.losses.sparse_softmax_cross_entropy is deprecated. Please use tf.compat.v1.losses.sparse_softmax_cross_entropy instead.\n",
      "\n",
      "WARNING:tensorflow:From c:\\Users\\MrDexign\\AppData\\Local\\Programs\\Python\\Python310\\lib\\site-packages\\keras\\src\\backend.py:873: The name tf.get_default_graph is deprecated. Please use tf.compat.v1.get_default_graph instead.\n",
      "\n",
      "WARNING:tensorflow:From c:\\Users\\MrDexign\\AppData\\Local\\Programs\\Python\\Python310\\lib\\site-packages\\keras\\src\\optimizers\\__init__.py:309: The name tf.train.Optimizer is deprecated. Please use tf.compat.v1.train.Optimizer instead.\n",
      "\n",
      "Epoch 1/3\n",
      "WARNING:tensorflow:From c:\\Users\\MrDexign\\AppData\\Local\\Programs\\Python\\Python310\\lib\\site-packages\\keras\\src\\utils\\tf_utils.py:492: The name tf.ragged.RaggedTensorValue is deprecated. Please use tf.compat.v1.ragged.RaggedTensorValue instead.\n",
      "\n",
      "WARNING:tensorflow:From c:\\Users\\MrDexign\\AppData\\Local\\Programs\\Python\\Python310\\lib\\site-packages\\keras\\src\\engine\\base_layer_utils.py:384: The name tf.executing_eagerly_outside_functions is deprecated. Please use tf.compat.v1.executing_eagerly_outside_functions instead.\n",
      "\n",
      "1629/1629 [==============================] - 45s 26ms/step - loss: 0.4975 - accuracy: 0.8253 - val_loss: 0.4444 - val_accuracy: 0.8371\n",
      "Epoch 2/3\n",
      "1629/1629 [==============================] - 45s 28ms/step - loss: 0.4204 - accuracy: 0.8513 - val_loss: 0.4418 - val_accuracy: 0.8418\n",
      "Epoch 3/3\n",
      "1629/1629 [==============================] - 44s 27ms/step - loss: 0.3774 - accuracy: 0.8663 - val_loss: 0.4516 - val_accuracy: 0.8423\n",
      "INFO:tensorflow:Assets written to: saved.model\\assets\n"
     ]
    },
    {
     "name": "stderr",
     "output_type": "stream",
     "text": [
      "INFO:tensorflow:Assets written to: saved.model\\assets\n"
     ]
    }
   ],
   "source": [
    "from keras.models import Sequential\n",
    "from keras.utils import to_categorical\n",
    "from keras.layers import Dense, Dropout, Activation\n",
    "\n",
    "# Params\n",
    "nb_epochs = 3\n",
    "nb_classes = 3\n",
    "batch_size = 64\n",
    "\n",
    "input_dim = X_train.shape\n",
    "y_train_cat = to_categorical(y_train,nb_classes)\n",
    "\n",
    "model = Sequential()\n",
    "\n",
    "model.add(Dense(512,input_shape= (input_dim[1],)))\n",
    "model.add(Activation('relu'))\n",
    "model.add(Dropout(0.5))\n",
    "\n",
    "model.add(Dense(128))\n",
    "model.add(Activation('relu'))\n",
    "model.add(Dropout(0.5))\n",
    "\n",
    "model.add(Dense(64))\n",
    "model.add(Activation('relu'))\n",
    "model.add(Dropout(0.5))\n",
    "\n",
    "model.add(Dense(nb_classes))\n",
    "model.add(Activation('softmax'))\n",
    "\n",
    "model.compile(loss='categorical_crossentropy', optimizer='Adam',metrics=['accuracy'])\n",
    "\n",
    "model.fit(X_train, y_train_cat, batch_size=batch_size, epochs=nb_epochs, verbose=1, validation_split=0.1)\n",
    "\n",
    "model.save('saved.model')"
   ]
  },
  {
   "cell_type": "code",
   "execution_count": 5,
   "metadata": {},
   "outputs": [
    {
     "name": "stdout",
     "output_type": "stream",
     "text": [
      "905/905 [==============================] - 3s 3ms/step\n",
      "3618/3618 [==============================] - 10s 3ms/step\n"
     ]
    }
   ],
   "source": [
    "import numpy as np\n",
    "\n",
    "y_test_pred = model.predict(X_test)\n",
    "y_test_pred_class = np.argmax(y_test_pred, axis=1)\n",
    "y_train_pred = model.predict(X_train)\n",
    "y_train_pred_class = np.argmax(y_train_pred, axis=1)"
   ]
  },
  {
   "cell_type": "code",
   "execution_count": 6,
   "metadata": {},
   "outputs": [
    {
     "name": "stdout",
     "output_type": "stream",
     "text": [
      "Test accuracy: 76.95\n",
      "Train accuracy: 80.24\n"
     ]
    }
   ],
   "source": [
    "from sklearn.metrics import accuracy_score\n",
    "print (\"Test accuracy:\",(round(accuracy_score(y_test, y_test_pred_class),4)*100))\n",
    "print (\"Train accuracy:\",(round(accuracy_score(y_train, y_train_pred_class),4)*100))"
   ]
  }
 ],
 "metadata": {
  "kernelspec": {
   "display_name": "Python 3",
   "language": "python",
   "name": "python3"
  },
  "language_info": {
   "codemirror_mode": {
    "name": "ipython",
    "version": 3
   },
   "file_extension": ".py",
   "mimetype": "text/x-python",
   "name": "python",
   "nbconvert_exporter": "python",
   "pygments_lexer": "ipython3",
   "version": "3.10.5"
  }
 },
 "nbformat": 4,
 "nbformat_minor": 2
}
