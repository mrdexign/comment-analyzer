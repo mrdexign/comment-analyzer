{
 "cells": [
  {
   "cell_type": "markdown",
   "metadata": {},
   "source": [
    "<h4>Loading model</h4>"
   ]
  },
  {
   "cell_type": "code",
   "execution_count": 7,
   "metadata": {},
   "outputs": [
    {
     "name": "stdout",
     "output_type": "stream",
     "text": [
      "Model loaded successfully!\n"
     ]
    }
   ],
   "source": [
    "import pickle\n",
    "from keras.models import load_model\n",
    "\n",
    "vectorizer = None\n",
    "model = load_model('saved.model')\n",
    "with open('vectorizer.pkl', \"rb\") as f:\n",
    "       vectorizer = pickle.load(f)\n",
    "       \n",
    "print('Model loaded successfully!')\n"
   ]
  },
  {
   "cell_type": "code",
   "execution_count": 8,
   "metadata": {},
   "outputs": [],
   "source": [
    "import numpy as np\n",
    "\n",
    "def predict_label(text):\n",
    "    X_pred = vectorizer.transform([text]).todense()\n",
    "    predicted = np.array(model.predict(X_pred,verbose=0))\n",
    "    predicted = ['😐Neutral','🟢Positive','🔴Negative'][np.argmax(predicted)]\n",
    "    print('----------------------')\n",
    "    print(text,'\\t',)\n",
    "    print(predicted)"
   ]
  },
  {
   "cell_type": "code",
   "execution_count": 15,
   "metadata": {},
   "outputs": [
    {
     "name": "stdout",
     "output_type": "stream",
     "text": [
      "----------------------\n",
      "در کل معمولیه \t\n",
      "😐Neutral\n",
      "----------------------\n",
      "نمیدونم شاید بخرم شاید نه \t\n",
      "😐Neutral\n",
      "----------------------\n",
      "جالب بود پیشنهاد میکنم \t\n",
      "🟢Positive\n",
      "----------------------\n",
      "فراتر از انتظارم بود \t\n",
      "🟢Positive\n",
      "----------------------\n",
      "با کیفیت و مستحکمه \t\n",
      "🟢Positive\n",
      "----------------------\n",
      "بی کیفیته و همش میترسم بشکنه \t\n",
      "🔴Negative\n",
      "----------------------\n",
      "با این پول میتونید چیزای بهتری بخرید \t\n",
      "🔴Negative\n",
      "----------------------\n",
      "خوشرنگ بود \t\n",
      "🟢Positive\n",
      "----------------------\n",
      "وسایل جانبیش سخت پیدا میشه \t\n",
      "🔴Negative\n",
      "----------------------\n",
      "سریع وصل میشه \t\n",
      "🟢Positive\n"
     ]
    }
   ],
   "source": [
    "test_comments = [\n",
    "    'در کل معمولیه',\n",
    "    'نمیدونم شاید بخرم شاید نه',\n",
    "    'جالب بود پیشنهاد میکنم',\n",
    "    'فراتر از انتظارم بود',\n",
    "    'با کیفیت و مستحکمه',\n",
    "    'بی کیفیته و همش میترسم بشکنه',\n",
    "    'با این پول میتونید چیزای بهتری بخرید',\n",
    "    'خوشرنگ بود',\n",
    "    'وسایل جانبیش سخت پیدا میشه',\n",
    "    'سریع وصل میشه'\n",
    "]\n",
    "\n",
    "for t in test_comments:\n",
    "    predict_label(t)\n"
   ]
  },
  {
   "cell_type": "code",
   "execution_count": null,
   "metadata": {},
   "outputs": [],
   "source": [
    "import time\n",
    "\n",
    "user_input = None\n",
    "while user_input != \"exit\":\n",
    "    user_input = input(\"Please Enter your sentence:\\n\")\n",
    "    predict_label(user_input)\n",
    "    time.sleep(0.5)\n",
    "    \n"
   ]
  }
 ],
 "metadata": {
  "kernelspec": {
   "display_name": "Python 3",
   "language": "python",
   "name": "python3"
  },
  "language_info": {
   "codemirror_mode": {
    "name": "ipython",
    "version": 3
   },
   "file_extension": ".py",
   "mimetype": "text/x-python",
   "name": "python",
   "nbconvert_exporter": "python",
   "pygments_lexer": "ipython3",
   "version": "3.10.5"
  }
 },
 "nbformat": 4,
 "nbformat_minor": 2
}
