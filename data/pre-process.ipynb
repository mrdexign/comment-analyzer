{
 "cells": [
  {
   "cell_type": "markdown",
   "metadata": {},
   "source": [
    "<h4>Loading the Comments</h4>"
   ]
  },
  {
   "cell_type": "code",
   "execution_count": 1,
   "metadata": {},
   "outputs": [
    {
     "data": {
      "text/html": [
       "<div>\n",
       "<style scoped>\n",
       "    .dataframe tbody tr th:only-of-type {\n",
       "        vertical-align: middle;\n",
       "    }\n",
       "\n",
       "    .dataframe tbody tr th {\n",
       "        vertical-align: top;\n",
       "    }\n",
       "\n",
       "    .dataframe thead th {\n",
       "        text-align: right;\n",
       "    }\n",
       "</style>\n",
       "<table border=\"1\" class=\"dataframe\">\n",
       "  <thead>\n",
       "    <tr style=\"text-align: right;\">\n",
       "      <th></th>\n",
       "      <th>rate</th>\n",
       "      <th>comment</th>\n",
       "    </tr>\n",
       "  </thead>\n",
       "  <tbody>\n",
       "    <tr>\n",
       "      <th>0</th>\n",
       "      <td>5.0</td>\n",
       "      <td>در مقایسه آی‌پد ۲۰۲۲( نسل ۱۰) و مینی نسل ۶، هر...</td>\n",
       "    </tr>\n",
       "    <tr>\n",
       "      <th>1</th>\n",
       "      <td>5.0</td>\n",
       "      <td>بسیار زیبا و مناسب برای طراحی و کارای روز مره ...</td>\n",
       "    </tr>\n",
       "    <tr>\n",
       "      <th>2</th>\n",
       "      <td>5.0</td>\n",
       "      <td>عالیه حرف نداره بازی ها هم خیلی خوب اجرا میکنه</td>\n",
       "    </tr>\n",
       "    <tr>\n",
       "      <th>3</th>\n",
       "      <td>5.0</td>\n",
       "      <td>جنس بدنه با کیفیت  نرم افزار روان و بی نقص در ...</td>\n",
       "    </tr>\n",
       "    <tr>\n",
       "      <th>4</th>\n",
       "      <td>5.0</td>\n",
       "      <td>کالا اصل بود</td>\n",
       "    </tr>\n",
       "  </tbody>\n",
       "</table>\n",
       "</div>"
      ],
      "text/plain": [
       "   rate                                            comment\n",
       "0   5.0  در مقایسه آی‌پد ۲۰۲۲( نسل ۱۰) و مینی نسل ۶، هر...\n",
       "1   5.0  بسیار زیبا و مناسب برای طراحی و کارای روز مره ...\n",
       "2   5.0     عالیه حرف نداره بازی ها هم خیلی خوب اجرا میکنه\n",
       "3   5.0  جنس بدنه با کیفیت  نرم افزار روان و بی نقص در ...\n",
       "4   5.0                                      کالا اصل بود "
      ]
     },
     "execution_count": 1,
     "metadata": {},
     "output_type": "execute_result"
    }
   ],
   "source": [
    "import pandas as pd\n",
    "\n",
    "comments = pd.read_csv(\"comments.csv\")\n",
    "comments.head()"
   ]
  },
  {
   "cell_type": "markdown",
   "metadata": {},
   "source": [
    "<h4>Normalizing</h4>"
   ]
  },
  {
   "cell_type": "code",
   "execution_count": 2,
   "metadata": {},
   "outputs": [
    {
     "data": {
      "text/html": [
       "<div>\n",
       "<style scoped>\n",
       "    .dataframe tbody tr th:only-of-type {\n",
       "        vertical-align: middle;\n",
       "    }\n",
       "\n",
       "    .dataframe tbody tr th {\n",
       "        vertical-align: top;\n",
       "    }\n",
       "\n",
       "    .dataframe thead th {\n",
       "        text-align: right;\n",
       "    }\n",
       "</style>\n",
       "<table border=\"1\" class=\"dataframe\">\n",
       "  <thead>\n",
       "    <tr style=\"text-align: right;\">\n",
       "      <th></th>\n",
       "      <th>rate</th>\n",
       "      <th>comment</th>\n",
       "    </tr>\n",
       "  </thead>\n",
       "  <tbody>\n",
       "    <tr>\n",
       "      <th>0</th>\n",
       "      <td>1</td>\n",
       "      <td>در مقایسه آی‌پد       نسل     و مینی نسل    هر...</td>\n",
       "    </tr>\n",
       "    <tr>\n",
       "      <th>1</th>\n",
       "      <td>1</td>\n",
       "      <td>بسیار زیبا و مناسب برای طراحی و کارای روز مره ...</td>\n",
       "    </tr>\n",
       "    <tr>\n",
       "      <th>2</th>\n",
       "      <td>1</td>\n",
       "      <td>عالیه حرف نداره بازی ها هم خیلی خوب اجرا میکنه</td>\n",
       "    </tr>\n",
       "    <tr>\n",
       "      <th>3</th>\n",
       "      <td>1</td>\n",
       "      <td>جنس بدنه با کیفیت  نرم افزار روان و بی نقص در ...</td>\n",
       "    </tr>\n",
       "    <tr>\n",
       "      <th>4</th>\n",
       "      <td>1</td>\n",
       "      <td>کالا اصل بود</td>\n",
       "    </tr>\n",
       "  </tbody>\n",
       "</table>\n",
       "</div>"
      ],
      "text/plain": [
       "   rate                                            comment\n",
       "0     1  در مقایسه آی‌پد       نسل     و مینی نسل    هر...\n",
       "1     1  بسیار زیبا و مناسب برای طراحی و کارای روز مره ...\n",
       "2     1     عالیه حرف نداره بازی ها هم خیلی خوب اجرا میکنه\n",
       "3     1  جنس بدنه با کیفیت  نرم افزار روان و بی نقص در ...\n",
       "4     1                                       کالا اصل بود"
      ]
     },
     "execution_count": 2,
     "metadata": {},
     "output_type": "execute_result"
    }
   ],
   "source": [
    "import re\n",
    "from hazm import Normalizer\n",
    "\n",
    "\n",
    "def map_replacer(text, mapping):\n",
    "    pattern = \"|\".join(map(re.escape, mapping.keys()))\n",
    "    return re.sub(pattern, lambda m: mapping[m.group()], str(text))\n",
    "\n",
    "\n",
    "def hazm_normalizer(text):\n",
    "    return Normalizer().normalize(text)\n",
    "\n",
    "\n",
    "def rate_normalizer(rate):\n",
    "    if rate < 2.75:\n",
    "        rate = -1\n",
    "    elif rate > 3.5:\n",
    "        rate = 1\n",
    "    else:\n",
    "        rate = 0\n",
    "    return rate\n",
    "\n",
    "\n",
    "def comment_normalizer(comment):\n",
    "    if not isinstance(comment, str):\n",
    "        return \"\"\n",
    "\n",
    "    # Remove all special chars\n",
    "    comment = re.sub(r'[\\d+a-zA-Z\\s{2,}<>#.:()\"\\'!?؟،,@$%^&*_+\\[\\]/]', \" \", comment)\n",
    "\n",
    "    # Replace arabic chars with persian\n",
    "    comment = map_replacer(\n",
    "        comment,\n",
    "        {\n",
    "            \"إ\": \"ا\",\n",
    "            \"أ\": \"ا\",\n",
    "            \"ة\": \"ه\",\n",
    "            \"ؤ\": \"و\",\n",
    "            \"ك\": \"ک\",\n",
    "            \"ى\": \"ی\",\n",
    "            \"ي\": \"ی\",\n",
    "            \"ئ\": \"ی\",\n",
    "        },\n",
    "    )\n",
    "    \n",
    "\n",
    "    comment = comment.strip()\n",
    "    return comment\n",
    "\n",
    "\n",
    "comments[\"rate\"] = comments[\"rate\"].apply(rate_normalizer)\n",
    "comments[\"comment\"] = comments[\"comment\"].apply(comment_normalizer)\n",
    "comments = comments.dropna()\n",
    "comments.to_csv(\"comments.normalized.csv\", index=False)\n",
    "comments.head()"
   ]
  },
  {
   "cell_type": "code",
   "execution_count": 3,
   "metadata": {},
   "outputs": [
    {
     "name": "stdout",
     "output_type": "stream",
     "text": [
      "<class 'pandas.core.frame.DataFrame'>\n",
      "RangeIndex: 144717 entries, 0 to 144716\n",
      "Data columns (total 2 columns):\n",
      " #   Column   Non-Null Count   Dtype \n",
      "---  ------   --------------   ----- \n",
      " 0   rate     144717 non-null  int64 \n",
      " 1   comment  144717 non-null  object\n",
      "dtypes: int64(1), object(1)\n",
      "memory usage: 2.2+ MB\n"
     ]
    }
   ],
   "source": [
    "comments.info()"
   ]
  }
 ],
 "metadata": {
  "kernelspec": {
   "display_name": "Python 3",
   "language": "python",
   "name": "python3"
  },
  "language_info": {
   "codemirror_mode": {
    "name": "ipython",
    "version": 3
   },
   "file_extension": ".py",
   "mimetype": "text/x-python",
   "name": "python",
   "nbconvert_exporter": "python",
   "pygments_lexer": "ipython3",
   "version": "3.10.5"
  }
 },
 "nbformat": 4,
 "nbformat_minor": 2
}
